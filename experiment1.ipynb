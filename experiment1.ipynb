{
 "cells": [
  {
   "cell_type": "code",
   "execution_count": null,
   "id": "50c613b4-cdaa-4f90-a1d5-cadb29abd9dd",
   "metadata": {},
   "outputs": [],
   "source": [
    "ALPHABET SOUP PROBLEM"
   ]
  },
  {
   "cell_type": "code",
   "execution_count": 37,
   "id": "b3a97f13-b3f6-4147-88e4-22ce44032c23",
   "metadata": {},
   "outputs": [],
   "source": [
    "def alphabet_soup(word: str):\n",
    "    letters = list(word)   \n",
    "    letters.sort()         \n",
    "    result = \"\"            \n",
    "    for letter in letters:\n",
    "        result += letter   \n",
    "    return result"
   ]
  },
  {
   "cell_type": "code",
   "execution_count": 38,
   "id": "67e3865f-69e3-45b3-97a5-1c1c25474753",
   "metadata": {},
   "outputs": [
    {
     "name": "stdout",
     "output_type": "stream",
     "text": [
      "ehllo\n"
     ]
    }
   ],
   "source": [
    "print(alphabet_soup(\"hello\"))"
   ]
  },
  {
   "cell_type": "code",
   "execution_count": 39,
   "id": "b1b48d3d-953c-4540-9637-5e567fdccdd0",
   "metadata": {},
   "outputs": [
    {
     "name": "stdout",
     "output_type": "stream",
     "text": [
      "acehkr\n"
     ]
    }
   ],
   "source": [
    "print(alphabet_soup(\"hacker\"))"
   ]
  },
  {
   "cell_type": "code",
   "execution_count": 40,
   "id": "8ce13fd7-0745-438b-b68f-2e9302b34505",
   "metadata": {},
   "outputs": [
    {
     "name": "stdout",
     "output_type": "stream",
     "text": [
      "afino\n"
     ]
    }
   ],
   "source": [
    "print(alphabet_soup(\"fiona\"))"
   ]
  },
  {
   "cell_type": "code",
   "execution_count": null,
   "id": "774b6ea8-d41e-4751-838a-ede58cdf549d",
   "metadata": {},
   "outputs": [],
   "source": [
    "EMOTICON PROBLEM"
   ]
  },
  {
   "cell_type": "code",
   "execution_count": 35,
   "id": "bcbf50dc-9b49-4066-84b1-9655a99c5054",
   "metadata": {},
   "outputs": [],
   "source": [
    "def emotify(sentence: str):\n",
    "    return (sentence\n",
    "        .replace(\"smile\", \":)\")\n",
    "        .replace(\"grin\", \":D\")\n",
    "        .replace(\"sad\", \":(\")\n",
    "        .replace(\"mad\", \">:(\"))"
   ]
  },
  {
   "cell_type": "code",
   "execution_count": 36,
   "id": "344911a1-00ac-4069-8b7a-69ca6bb45000",
   "metadata": {},
   "outputs": [
    {
     "name": "stdout",
     "output_type": "stream",
     "text": [
      "Make me :)\n"
     ]
    }
   ],
   "source": [
    "print(emotify(\"Make me smile\"))"
   ]
  },
  {
   "cell_type": "code",
   "execution_count": 30,
   "id": "dcf17e45-a448-4f5a-8ea4-ff86de48a72f",
   "metadata": {},
   "outputs": [
    {
     "name": "stdout",
     "output_type": "stream",
     "text": [
      "I am >:(\n"
     ]
    }
   ],
   "source": [
    "print(emotify(\"I am mad\"))"
   ]
  },
  {
   "cell_type": "code",
   "execution_count": 34,
   "id": "e4044fc7-d94e-456e-94fe-7186137dab97",
   "metadata": {},
   "outputs": [
    {
     "name": "stdout",
     "output_type": "stream",
     "text": [
      "You make me :(\n"
     ]
    }
   ],
   "source": [
    "print(emotify(\"You make me sad\"))"
   ]
  },
  {
   "cell_type": "code",
   "execution_count": null,
   "id": "25db6d56-0630-4b51-82e2-e4e434fcd15e",
   "metadata": {},
   "outputs": [],
   "source": [
    "UNPACKING LIST PROBLEM"
   ]
  },
  {
   "cell_type": "code",
   "execution_count": 26,
   "id": "acabd018-6854-4a9d-8aa3-800495edae29",
   "metadata": {},
   "outputs": [],
   "source": [
    "lst = [1, 2, 3, 4, 5, 6]\n",
    "\n",
    "first = lst[0]\n",
    "middle = lst[1 : -1]\n",
    "last = lst[-1]"
   ]
  },
  {
   "cell_type": "code",
   "execution_count": 27,
   "id": "fa5368fb-ba40-46cc-800e-b82ac893c49f",
   "metadata": {},
   "outputs": [
    {
     "name": "stdout",
     "output_type": "stream",
     "text": [
      "first: 1\n",
      "middle: [2, 3, 4, 5]\n",
      "last: 6\n"
     ]
    }
   ],
   "source": [
    "print(\"first:\", first)\n",
    "print(\"middle:\", middle)\n",
    "print(\"last:\", last)"
   ]
  },
  {
   "cell_type": "code",
   "execution_count": null,
   "id": "7017f8b1-cea9-44ad-ad9c-9f1ed44e7e95",
   "metadata": {},
   "outputs": [],
   "source": []
  }
 ],
 "metadata": {
  "kernelspec": {
   "display_name": "Python [conda env:base] *",
   "language": "python",
   "name": "conda-base-py"
  },
  "language_info": {
   "codemirror_mode": {
    "name": "ipython",
    "version": 3
   },
   "file_extension": ".py",
   "mimetype": "text/x-python",
   "name": "python",
   "nbconvert_exporter": "python",
   "pygments_lexer": "ipython3",
   "version": "3.13.5"
  }
 },
 "nbformat": 4,
 "nbformat_minor": 5
}
